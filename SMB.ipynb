{
 "cells": [
  {
   "cell_type": "code",
   "execution_count": null,
   "id": "87751a18",
   "metadata": {
    "scrolled": true
   },
   "outputs": [],
   "source": [
    "!pip install gym_super_mario_bros==7.3.0 nes_py"
   ]
  },
  {
   "cell_type": "code",
   "execution_count": null,
   "id": "5c3ab97e",
   "metadata": {},
   "outputs": [],
   "source": [
    "!pip install stable-baselines3[extra]"
   ]
  },
  {
   "cell_type": "code",
   "execution_count": null,
   "id": "4afaf7de",
   "metadata": {},
   "outputs": [],
   "source": [
    "conda update --all"
   ]
  },
  {
   "cell_type": "code",
   "execution_count": null,
   "id": "0fb0a912",
   "metadata": {
    "scrolled": true
   },
   "outputs": [],
   "source": [
    "conda install pytorch torchvision torchaudio -c pytorch"
   ]
  },
  {
   "cell_type": "code",
   "execution_count": null,
   "id": "c263e39e",
   "metadata": {},
   "outputs": [],
   "source": [
    "conda install pytorch torchvision torchaudio cudatoolkit=11.3 -c pytorch"
   ]
  },
  {
   "cell_type": "code",
   "execution_count": null,
   "id": "001e09e3",
   "metadata": {},
   "outputs": [],
   "source": [
    "conda install pytorch torchvision torchaudio cudatoolkit=10.2 -c pytorch-lts"
   ]
  },
  {
   "cell_type": "code",
   "execution_count": null,
   "id": "c4b15dca",
   "metadata": {},
   "outputs": [],
   "source": [
    "conda install freetype=2.10.4"
   ]
  },
  {
   "cell_type": "code",
   "execution_count": null,
   "id": "7fe6f5c1",
   "metadata": {},
   "outputs": [],
   "source": [
    "import gym\n",
    "\n",
    "# Import the game\n",
    "import gym_super_mario_bros\n",
    "\n",
    "# Import the joypad wrapper\n",
    "from nes_py.wrappers import JoypadSpace\n",
    "\n",
    "# Import the simplified controls\n",
    "from gym_super_mario_bros.actions import SIMPLE_MOVEMENT, RIGHT_ONLY "
   ]
  },
  {
   "cell_type": "code",
   "execution_count": null,
   "id": "48ce1601",
   "metadata": {},
   "outputs": [],
   "source": [
    "# Import frame stack and grayscaling wrapper\n",
    "from gym.wrappers import FrameStack, GrayScaleObservation\n",
    "\n",
    "# Import vectorization wrappers\n",
    "from stable_baselines3.common.vec_env import VecFrameStack, DummyVecEnv\n",
    "\n",
    "# Import Matplotlib to show the impact of stack framing\n",
    "from matplotlib import pyplot as plt"
   ]
  },
  {
   "cell_type": "code",
   "execution_count": null,
   "id": "07c9e7aa",
   "metadata": {},
   "outputs": [],
   "source": [
    "# We will use a subset of possible actions\n",
    "SIMPLE_MOVEMENT\n",
    "#RIGHT_ONLY \n",
    "#CUSTUM_RIGHT_ONLY = [['right', 'B'], ['right', 'A', 'B']]\n",
    "#CUSTUM_RIGHT_ONLY"
   ]
  },
  {
   "cell_type": "code",
   "execution_count": null,
   "id": "504cdae6",
   "metadata": {},
   "outputs": [],
   "source": [
    "class CustomReward(gym.Wrapper):\n",
    "    def __init__(self, env):\n",
    "        super(CustomReward, self).__init__(env)\n",
    "        self._current_score = 0\n",
    "\n",
    "    def step(self, action):\n",
    "        state, reward, done, info = self.env.step(action)\n",
    "        reward += (info[\"score\"] - self._current_score) / 40.0\n",
    "        self._current_score = info[\"score\"]\n",
    "        if done:\n",
    "            if info[\"flag_get\"]:\n",
    "                reward += 350.0\n",
    "            else:\n",
    "                reward -= 50.0\n",
    "        return state, reward / 10.0, done, info"
   ]
  },
  {
   "cell_type": "code",
   "execution_count": null,
   "id": "053a13f9",
   "metadata": {},
   "outputs": [],
   "source": [
    "class CustomRewardNoMovingRightReward(gym.Wrapper):\n",
    "    def __init__(self, env):\n",
    "        super(CustomRewardNoMovingRightReward, self).__init__(env)\n",
    "        self._current_score = 0\n",
    "\n",
    "        # starting point\n",
    "        self._current_x_pos = 40\n",
    "\n",
    "        self._max_x_pos_memory = 0\n",
    "        self._previous_x_pos_memory = 0\n",
    "        self._steps_run_wrong_direction = 0\n",
    "\n",
    "    def step(self, action):\n",
    "        state, reward, done, info = self.env.step(action)\n",
    "        score_diff = info[\"score\"] - self._current_score\n",
    "        reward += score_diff / 10.0\n",
    "\n",
    "        if self._max_x_pos_memory < info[\"x_pos\"]:\n",
    "            self._max_x_pos_memory = info[\"x_pos\"]\n",
    "        else:\n",
    "            self._steps_run_wrong_direction += 1\n",
    "\n",
    "        #  Handle when the agent hits the left wall\n",
    "        standstill = self._previous_x_pos_memory == info[\"x_pos\"]\n",
    "        if standstill:\n",
    "            self._steps_run_wrong_direction += 1\n",
    "\n",
    "        self._previous_x_pos_memory = info[\"x_pos\"]\n",
    "\n",
    "        # reward movement also for left direction /normal reward for left is -3\n",
    "        # Make sure to force progress after moving in the wrong direction too long.\n",
    "        if info[\"x_pos\"] < self._current_x_pos and self._steps_run_wrong_direction < 750:\n",
    "            reward += 4\n",
    "        elif standstill and self._steps_run_wrong_direction > 750:\n",
    "            reward -= 2\n",
    "        elif score_diff > 1:\n",
    "            self._steps_run_wrong_direction = 0\n",
    "\n",
    "        self._current_score = info[\"score\"]\n",
    "        self._current_x_pos = info[\"x_pos\"]\n",
    "\n",
    "        if done:\n",
    "            if info[\"flag_get\"]:\n",
    "                reward += 350.0\n",
    "            else:\n",
    "                reward -= 100.0\n",
    "                self._current_x_pos = 40\n",
    "        return state, reward, done, info"
   ]
  },
  {
   "cell_type": "code",
   "execution_count": null,
   "id": "0da1c28b",
   "metadata": {},
   "outputs": [],
   "source": [
    "class CustomRewardNoMovingRightReward(gym.Wrapper):\n",
    "    def __init__(self, env):\n",
    "        super(CustomRewardNoMovingRightReward, self).__init__(env)\n",
    "        self._current_score = 0\n",
    "        self._current_time = 400\n",
    "\n",
    "        # starting point\n",
    "        self._current_x_pos = 40\n",
    "\n",
    "        self._max_x_pos_memory = 0\n",
    "        self._previous_x_pos_memory = 0\n",
    "        self._steps_run_wrong_direction = 0\n",
    "\n",
    "    def step(self, action):\n",
    "        state, reward, done, info = self.env.step(action)\n",
    "        score_diff = info[\"score\"] - self._current_score\n",
    "        reward += score_diff / 10.0\n",
    "\n",
    "        time_diff = self._current_time - info[\"time\"]\n",
    "\n",
    "        if self._max_x_pos_memory < info[\"x_pos\"]:\n",
    "            self._max_x_pos_memory = info[\"x_pos\"]\n",
    "        else:\n",
    "            self._steps_run_wrong_direction += time_diff\n",
    "\n",
    "        #  Handle when the agent hits the left wall\n",
    "        standstill = self._previous_x_pos_memory == info[\"x_pos\"]\n",
    "        if standstill:\n",
    "            self._steps_run_wrong_direction += time_diff\n",
    "\n",
    "        self._previous_x_pos_memory = info[\"x_pos\"]\n",
    "\n",
    "        # reward movement also for left direction /normal reward for left is -3\n",
    "        # Make sure to force progress after moving in the wrong direction too long.\n",
    "        if info[\"x_pos\"] < self._current_x_pos:\n",
    "            reward -= min((self._steps_run_wrong_direction / 10000), 1)\n",
    "        elif standstill:\n",
    "            reward -= 0.2\n",
    "        \"\"\"elif score_diff > 1:\n",
    "            self._steps_run_wrong_direction = 0\"\"\"\n",
    "\n",
    "        self._current_score = info[\"score\"]\n",
    "        self._current_x_pos = info[\"x_pos\"]\n",
    "\n",
    "        if done:\n",
    "            if info[\"flag_get\"]:\n",
    "                reward += 350.0\n",
    "            else:\n",
    "                reward -= 100.0\n",
    "                self._current_x_pos = 40\n",
    "        return state, reward/10, done, info"
   ]
  },
  {
   "cell_type": "code",
   "execution_count": null,
   "id": "e2c68a12",
   "metadata": {},
   "outputs": [],
   "source": [
    "class CustomRewardNoMovingRightReward(gym.Wrapper):\n",
    "    def __init__(self, env):\n",
    "        super(CustomRewardNoMovingRightReward, self).__init__(env)\n",
    "        self._current_score = 0\n",
    "        self._number_of_lives = 2\n",
    "        self._current_time = 400\n",
    "\n",
    "        # starting point\n",
    "        self._current_x_pos = 40\n",
    "        self._max_x_pos_memory = 0\n",
    "        self._previous_x_pos_memory = 0\n",
    "        self._steps_run_wrong_direction = 0\n",
    "\n",
    "    def step(self, action):\n",
    "        def reset():\n",
    "            self._current_x_pos = 40\n",
    "            self._current_time = 400\n",
    "            self._steps_run_wrong_direction = 0\n",
    "\n",
    "        state, reward, done, info = self.env.step(action)\n",
    "        score_diff = info[\"score\"] - self._current_score\n",
    "        life_loss = (self._number_of_lives - info[\"life\"]) > 0\n",
    "\n",
    "        # clip to avoid too high reward for mushroom/flower (1000p) and coins (200p)\n",
    "        reward += min(score_diff, 150)\n",
    "\n",
    "        time_diff = self._current_time - info[\"time\"]\n",
    "\n",
    "        if self._max_x_pos_memory < info[\"x_pos\"]:\n",
    "            self._max_x_pos_memory = info[\"x_pos\"]\n",
    "        else:\n",
    "            self._steps_run_wrong_direction += time_diff\n",
    "\n",
    "        #  Handle when the agent hits the left wall\n",
    "        standstill = self._previous_x_pos_memory == info[\"x_pos\"]\n",
    "        if standstill:\n",
    "            self._steps_run_wrong_direction += time_diff\n",
    "\n",
    "        self._previous_x_pos_memory = info[\"x_pos\"]\n",
    "\n",
    "        # reward movement also for left direction /normal reward for left is -3\n",
    "        # Make sure to force progress after moving in the wrong direction too long.\n",
    "        if info[\"x_pos\"] < self._current_x_pos:\n",
    "            reward -= min((self._steps_run_wrong_direction / 100), 10)\n",
    "        elif standstill:\n",
    "            reward -= min((self._steps_run_wrong_direction / 100), 10)\n",
    "        \"\"\"elif score_diff > 1:\n",
    "            self._steps_run_wrong_direction = 0\"\"\"\n",
    "\n",
    "        self._current_score = info[\"score\"]\n",
    "        self._current_x_pos = info[\"x_pos\"]\n",
    "        self._current_time = info[\"time\"]\n",
    "\n",
    "        if done:\n",
    "            if info[\"flag_get\"]:\n",
    "                reward += 350.0\n",
    "            else:\n",
    "                reward -= 100.0\n",
    "                self._number_of_lives = 2\n",
    "                reset()\n",
    "\n",
    "        if life_loss:\n",
    "            reward -= 50.0\n",
    "            self._number_of_lives = info[\"life\"]\n",
    "            reset()\n",
    "\n",
    "        return state, reward / 10, done, info"
   ]
  },
  {
   "cell_type": "code",
   "execution_count": null,
   "id": "af856699",
   "metadata": {},
   "outputs": [],
   "source": [
    "class CustomReward6(gym.Wrapper):\n",
    "    def __init__(self, env):\n",
    "        super(CustomReward6, self).__init__(env)\n",
    "        self._current_score = 0\n",
    "        self._number_of_lives = 2\n",
    "\n",
    "    def step(self, action):\n",
    "        state, reward, done, info = self.env.step(action)\n",
    "        reward = (info[\"score\"] - self._current_score) / 10\n",
    "\n",
    "        if info[\"life\"] == 255:\n",
    "            life_loss = True\n",
    "        else:\n",
    "            life_loss = (self._number_of_lives - info[\"life\"]) > 0\n",
    "\n",
    "        self._current_score = info[\"score\"]\n",
    "        if done:\n",
    "            if info[\"flag_get\"]:\n",
    "                reward += 350.0\n",
    "            else:\n",
    "                reward -= 100.0\n",
    "                self._number_of_lives = 2\n",
    "                self._current_score = 0\n",
    "\n",
    "        if life_loss and not done:\n",
    "            reward -= 50.0\n",
    "            self._number_of_lives = info[\"life\"]\n",
    "\n",
    "        return state, reward, done, info"
   ]
  },
  {
   "cell_type": "code",
   "execution_count": null,
   "id": "d893fd71",
   "metadata": {},
   "outputs": [],
   "source": [
    "# Create the base environment\n",
    "env = gym_super_mario_bros.make(\"SuperMarioBros-v0\")\n",
    "# My custom reward function\n",
    "env = CustomReward6(env)\n",
    "# Simplify the controls\n",
    "customMovement = [['right', 'B'], ['right', 'A', 'B'], ['A'], ['left', 'B'], ['left', 'A', 'B']]\n",
    "#env = JoypadSpace(env, customMovement)\n",
    "env = JoypadSpace(env, SIMPLE_MOVEMENT)\n",
    "# Grayscale\n",
    "env = GrayScaleObservation(env, keep_dim=True)\n",
    "# Wrap inside the Dummy Environment\n",
    "env = DummyVecEnv([lambda: env])\n",
    "# Stack the frames\n",
    "env = VecFrameStack(env, 4, channels_order=\"last\")"
   ]
  },
  {
   "cell_type": "code",
   "execution_count": null,
   "id": "2e7edf5c",
   "metadata": {},
   "outputs": [],
   "source": [
    "state = env.reset()"
   ]
  },
  {
   "cell_type": "code",
   "execution_count": null,
   "id": "18f11e98",
   "metadata": {},
   "outputs": [],
   "source": [
    "SIMPLE_MOVEMENT[env.action_space.sample()]"
   ]
  },
  {
   "cell_type": "code",
   "execution_count": null,
   "id": "3a1a67ea",
   "metadata": {},
   "outputs": [],
   "source": [
    "state, reward, done, info = env.step([env.action_space.sample()])\n",
    "info"
   ]
  },
  {
   "cell_type": "code",
   "execution_count": null,
   "id": "877afd51",
   "metadata": {},
   "outputs": [],
   "source": [
    "\"\"\"plt.figure(figsize=(10, 8))\n",
    "for idx in range(state.shape[3]):\n",
    "    plt.subplot(1, 4, idx + 1)\n",
    "    plt.imshow(state[0][:, :, idx])\n",
    "plt.show()\"\"\""
   ]
  },
  {
   "cell_type": "code",
   "execution_count": null,
   "id": "6d02b6e8",
   "metadata": {},
   "outputs": [],
   "source": [
    "# Import os for file path management\n",
    "import os\n",
    "# Import PPO for algos\n",
    "from stable_baselines3 import PPO\n",
    "# Import base callback for saving models\n",
    "from stable_baselines3.common.callbacks import BaseCallback"
   ]
  },
  {
   "cell_type": "code",
   "execution_count": null,
   "id": "94e018b9",
   "metadata": {},
   "outputs": [],
   "source": [
    "class TrainAndLoggingCallback(BaseCallback):\n",
    "\n",
    "    def __init__(self, check_freq, save_path, verbose=1):\n",
    "        super(TrainAndLoggingCallback, self).__init__(verbose)\n",
    "        self.check_freq = check_freq\n",
    "        self.save_path = save_path\n",
    "\n",
    "    def _init_callback(self):\n",
    "        if self.save_path is not None:\n",
    "            os.makedirs(self.save_path, exist_ok=True)\n",
    "\n",
    "    def _on_step(self):\n",
    "        if self.n_calls % self.check_freq == 0:\n",
    "            model_path = os.path.join(self.save_path, 'best_model_{}'.format(self.n_calls))\n",
    "            self.model.save(model_path)\n",
    "\n",
    "        return True"
   ]
  },
  {
   "cell_type": "code",
   "execution_count": null,
   "id": "a1fa073d",
   "metadata": {},
   "outputs": [],
   "source": [
    "CHECKPOINT_DIR = './train-reward-score-right-and-left13/'\n",
    "LOG_DIR = './logs/train-reward-score-right-and-left13/'"
   ]
  },
  {
   "cell_type": "code",
   "execution_count": null,
   "id": "39436bf5",
   "metadata": {},
   "outputs": [],
   "source": [
    "# Setup model saving callback\n",
    "callback = TrainAndLoggingCallback(check_freq=100000, save_path=CHECKPOINT_DIR)"
   ]
  },
  {
   "cell_type": "code",
   "execution_count": null,
   "id": "597d1bb4",
   "metadata": {},
   "outputs": [],
   "source": [
    "# This is the AI model started\n",
    "model = PPO('CnnPolicy', env, verbose=1, tensorboard_log=LOG_DIR, learning_rate=0.00001, n_steps=512) "
   ]
  },
  {
   "cell_type": "code",
   "execution_count": null,
   "id": "9e00a101",
   "metadata": {
    "scrolled": false
   },
   "outputs": [],
   "source": [
    "# Train the AI model, this is where the AI model starts to learn\n",
    "model.learn(total_timesteps=10000000, callback=callback)"
   ]
  },
  {
   "cell_type": "code",
   "execution_count": null,
   "id": "cbf58606",
   "metadata": {},
   "outputs": [],
   "source": [
    "model.save('thisisatestmodel')"
   ]
  },
  {
   "cell_type": "code",
   "execution_count": null,
   "id": "65717d70",
   "metadata": {},
   "outputs": [],
   "source": [
    "# Load model\n",
    "model = PPO.load('./train/best_model_4500000')"
   ]
  },
  {
   "cell_type": "code",
   "execution_count": null,
   "id": "f2c6d41d",
   "metadata": {},
   "outputs": [],
   "source": [
    "model.set_env(env)"
   ]
  },
  {
   "cell_type": "code",
   "execution_count": null,
   "id": "96fe02f6",
   "metadata": {},
   "outputs": [],
   "source": [
    "env = CustomReward6(env)"
   ]
  },
  {
   "cell_type": "code",
   "execution_count": null,
   "id": "b8092e00",
   "metadata": {},
   "outputs": [],
   "source": [
    "state = env.reset()"
   ]
  },
  {
   "cell_type": "code",
   "execution_count": null,
   "id": "a5cef9b7",
   "metadata": {},
   "outputs": [],
   "source": [
    "# Start the game \n",
    "state = env.reset()\n",
    "# Loop through the game\n",
    "while True:\n",
    "    action, _ = model.predict(state)\n",
    "    state, reward, done, info = env.step(action)\n",
    "    env.render()\n",
    "    if reward > 3 or reward < -1:\n",
    "        print(reward)"
   ]
  },
  {
   "cell_type": "code",
   "execution_count": null,
   "id": "01674e6b",
   "metadata": {},
   "outputs": [],
   "source": []
  }
 ],
 "metadata": {
  "kernelspec": {
   "display_name": "Python 3 (ipykernel)",
   "language": "python",
   "name": "python3"
  },
  "language_info": {
   "codemirror_mode": {
    "name": "ipython",
    "version": 3
   },
   "file_extension": ".py",
   "mimetype": "text/x-python",
   "name": "python",
   "nbconvert_exporter": "python",
   "pygments_lexer": "ipython3",
   "version": "3.9.12"
  }
 },
 "nbformat": 4,
 "nbformat_minor": 5
}
